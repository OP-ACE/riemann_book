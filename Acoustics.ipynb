{
 "cells": [
  {
   "cell_type": "markdown",
   "metadata": {},
   "source": [
    "# Acoustics"
   ]
  },
  {
   "cell_type": "code",
   "execution_count": null,
   "metadata": {
    "tags": [
     "hide"
    ]
   },
   "outputs": [],
   "source": [
    "%matplotlib inline"
   ]
  },
  {
   "cell_type": "code",
   "execution_count": null,
   "metadata": {
    "tags": [
     "hide"
    ]
   },
   "outputs": [],
   "source": [
    "%config InlineBackend.figure_format = 'svg'\n",
    "import numpy as np\n",
    "from exact_solvers import acoustics, acoustics_demos\n",
    "from IPython.display import IFrame, HTML, Image"
   ]
  },
  {
   "cell_type": "markdown",
   "metadata": {},
   "source": [
    "In this chapter we consider our first *system* of hyperbolic conservation laws.  We study the acoustics equations that were introduced briefly in [Introduction](Introduction.ipynb).  We first describe the physical context of this system and then investigate its characteristic structure and the solution to the Riemann problem.  This system is described in more detail in Chapter 3 of <cite data-cite=\"fvmhp\"><a href=\"riemann.html#fvmhp\">(LeVeque 2002)</a></cite>."
   ]
  },
  {
   "cell_type": "markdown",
   "metadata": {},
   "source": [
    "If you wish to examine the Python code for this chapter, please see:\n",
    "\n",
    " - [exact_solvers/acoustics.py](exact_solvers/acoustics.py) ...\n",
    "   [on github,](https://github.com/clawpack/riemann_book/blob/FA16/exact_solvers/acoustics.py)\n",
    " - [exact_solvers/acoustics_demos.py](exact_solvers/acoustics_demos.py) ...\n",
    "   [on github.](https://github.com/clawpack/riemann_book/blob/FA16/exact_solvers/acoustics_demos.py)"
   ]
  },
  {
   "cell_type": "markdown",
   "metadata": {},
   "source": [
    "## Physical setting\n",
    "The linear acoustic equations describe the propagation of small perturbations in a fluid.  In [Advection](Advection.ipynb) we derived the one-dimensional continuity equation, which describes mass conservation:  \n",
    "\\begin{align} \\label{Ac:continuity}\n",
    "    \\rho_t + (\\rho u)_x & = 0.\n",
    "\\end{align}  \n",
    "For more realistic fluid models, we need another equation that determines the velocity $u$.  This typically takes the form of a conservation law for the momentum $\\rho u$.  Momentum, like density, is transported by fluid motion with corresponding flux $\\rho u^2$.  Additionally, any difference in pressure will also lead to a flux of momentum that is proportional to the pressure difference.  Thus the momentum equation takes the form  \n",
    "\\begin{align} \\label{Ac:mom_cons}\n",
    "(\\rho u)_t + (\\rho u^2 + P(\\rho))_x & = 0,\n",
    "\\end{align}  \n",
    "where the pressure $P$ is is given by the equation of state $P(\\rho)$; here we have assumed the pressure depends only on the density. A more general equation of state will be considered, along with fully nonlinear fluid motions, in [Euler](Euler.ipynb).  The linear acoustics equations focus on the behavior of small perturbations in the system above."
   ]
  },
  {
   "cell_type": "markdown",
   "metadata": {},
   "source": [
    "In order to derive the equations of linear acoustics, observe that equations (\\ref{Ac:continuity})-(\\ref{Ac:mom_cons}) form a hyperbolic system $q_t+f(q)_x=0$ with  \n",
    "\\begin{align*}\n",
    "q & = \\begin{bmatrix} \\rho \\\\ \\rho u \\end{bmatrix} & \n",
    "f(q) & = \\begin{bmatrix} \\rho u \\\\ \\rho u^2 + P(\\rho) \\end{bmatrix}\n",
    "\\end{align*}  \n",
    "We will make use of the quasilinear form of a hyperbolic system:\n",
    "$$q_t + f'(q) q_x = 0.$$  \n",
    "Here $f'(q)$ denotes the Jacobian of the flux $f$ with respect to the conserved variables $q$.  In the present system, as is often the case, $f$ is most naturally written in terms of so-called primitive variables (in this case $\\rho$ and $u$) rather than in terms of the conserved variables $q$.  In order to find the flux Jacobian (and thus the quasilinear form), we first write $f$ in terms of the conserved variables $(q_1,q_2) = (\\rho, \\rho u)$:  \n",
    "\\begin{align}\n",
    "f(q) & = \\begin{bmatrix} q_2 \\\\ q_2^2/q_1 + P(q_1) \\end{bmatrix}.\n",
    "\\end{align}  "
   ]
  },
  {
   "cell_type": "markdown",
   "metadata": {},
   "source": [
    "Now we can differentiate to find the flux Jacobian:  \n",
    "\\begin{align*}\n",
    "f'(q) & = \\begin{bmatrix} \\partial f_1/\\partial q_1 & \\partial f_1/\\partial q_2 \\\\\n",
    "                          \\partial f_2/\\partial q_1 & \\partial f_2/\\partial q_2 \\end{bmatrix} \\\\\n",
    "      & = \\begin{bmatrix} 0 & 1 \\\\ -q_2^2/q_1^2 + P'(q_1) & 2q_2/q_1 \\end{bmatrix} \\\\\n",
    "      & = \\begin{bmatrix} 0 & 1 \\\\ P'(\\rho)-u^2 & 2u \\end{bmatrix}.\n",
    "\\end{align*}\n",
    "\n",
    "Thus small perturbations to an ambient fluid state $\\rho_0, u_0$ evolve according to the linearized equations $q_t + f'(q_0) q_x = 0$, or more explicitly\n",
    "\\begin{align*}\n",
    "\\rho_t + (\\rho u)_x & = 0 \\\\\n",
    "(\\rho u)_t + (P'(\\rho_0)-u_0^2)\\rho_x + 2u_0(\\rho u)_x & = 0.\n",
    "\\end{align*}  \n",
    "As we are only interested in small perturbations of equation (\\ref{Ac:mom_cons}), we expand the perturbations $\\rho-\\rho_0$ and $\\rho u - \\rho_0 u_0$ as functions of a small parameter $\\epsilon$, and then we discard terms of order $\\epsilon^2$ and higher. This results in the linear hyperbolic system  \n",
    "\\begin{align*}\n",
    "p_t + u_0 p_x + P'(\\rho_0) u_x & = 0 \\\\\n",
    "u_t + \\frac{1}{\\rho_0} p_x + u_0 u_x & = 0,\n",
    "\\end{align*}\n",
    "where $p(x,t)$ is the pressure as a function of $x$ and $t$. If the ambient fluid is at rest (i.e. $u_0=0$) and the pressure is directly proportional to the density, then this simplifies to\n",
    "\\begin{align} \\label{Ac:main}\n",
    " \\left[ \\begin{array}{c}\n",
    "p \\\\\n",
    "u \n",
    "\\end{array} \\right]_t +  \\underbrace{\\left[ \\begin{array}{cc}\n",
    "0 & K_0 \\\\\n",
    "1/\\rho_0 & 0  \\\\\n",
    "\\end{array} \\right]}_{\\mathbf{A}}\n",
    "\\left[ \\begin{array}{c}\n",
    "p \\\\\n",
    "u \\end{array} \\right]_x = 0,\n",
    "\\end{align}\n",
    "where $K_0=P'(\\rho_0)$ is referred to as the bulk modulus of compressibility. The system of equations (\\ref{Ac:main}) is called the linear acoustics equations."
   ]
  },
  {
   "cell_type": "markdown",
   "metadata": {},
   "source": [
    "For the rest of this chapter we work with (\\ref{Ac:main}) and let $q=[p,u]^T$.  Then we can write (\\ref{Ac:main}) as $q_t + A q_x = 0$.  For simplicity, we also drop the subscripts on $K, \\rho$.  Direct calculation reveals that the eigenvectors of $A$ are\n",
    "\\begin{align}\n",
    "\\lambda_1 = -c, \\qquad \\lambda_2 = c\n",
    "\\end{align}\n",
    "where $c=\\sqrt{{K}/{\\rho}}$ is the speed of sound in a medium with a given density and bulk modulus. The right eigenvectors of $A$ are given by\n",
    "\\begin{align*}\n",
    "r_1 = \\begin{bmatrix}\\begin{array}{c}-Z\\\\1\\end{array}\\end{bmatrix}, \\qquad r_2 = \\begin{bmatrix}\\begin{array}{c}Z\\\\1\\end{array}\\end{bmatrix},\n",
    "\\end{align*}\n",
    "where $Z=\\rho c$ is called the acoustic impedance. Defining $R = [r_1 r_2]$ and $\\Lambda = diag(\\lambda_1, \\lambda_2)$, we have $AR = R\\Lambda$, or $A = R \\Lambda R^{-1}$.  Substituting this into (\\ref{Ac:main}) yields\n",
    "\\begin{align*}\n",
    "q_t + A q_x & = 0 \\\\\n",
    "q_t + R \\Lambda R^{-1} q_x & = 0 \\\\\n",
    "R^{-1}q_t + \\Lambda R^{-1} q_x & = 0 \\\\\n",
    "w_t + \\Lambda w_x & = 0,\n",
    "\\end{align*}\n",
    "where we have introduced the *characteristic variables* $w=R^{-1}q$.  The last system above is simply a pair of decoupled advection equations for $w_1$ and $w_2$, with velocities $\\lambda_1$ and $\\lambda_2$; a system we already know how to solve. Thus we see that the eigenvalues of $A$ are the velocities at which information propagates in the solution."
   ]
  },
  {
   "cell_type": "markdown",
   "metadata": {},
   "source": [
    "## Solution by characteristics"
   ]
  },
  {
   "cell_type": "markdown",
   "metadata": {},
   "source": [
    "The discussion above suggests a strategy for solving the Cauchy problem:\n",
    "\n",
    "1. Decompose the initial data $(p(x,0), u(x,0))$ into characteristic variables $w(x,0)=(w_1^0(x),w_2^0(x,0))$ using the relation $w = R^{-1}q$.\n",
    "2. Evolve the characteristic variables: $w_p(x,t) = w_p^0(x-\\lambda_p t)$.\n",
    "3. Transform back to the physical variables: $q = Rw$.\n",
    "\n",
    "The first step in this process amounts to expressing the vector $q$ in the basis given by $r_1, r_2$.  Solving the system $Rw=q$ yields \n",
    "\\begin{align*}\n",
    "q = w_1 r_1 + w_2 r_2,\n",
    "\\end{align*} \n",
    "where\n",
    "\\begin{align*}\n",
    "w_1 = \\frac{- p + Z u}{2Z}, \\ \\ \\ \\ \\ \\\n",
    "w_2 = \\frac{ p + Z u}{2Z}.\n",
    "\\end{align*}\n",
    "\n",
    "We visualize this below, where the first plot shows the two eigenvectors, and the second plot shows how $q$ can be expressed as a linear combination of the two eigenvectors, $r_1$ and $r_2$.  *In the live notebook you can adjust the left and right states or the material parameters to see how this affects the construction of the Riemann solution.*"
   ]
  },
  {
   "cell_type": "code",
   "execution_count": null,
   "metadata": {
    "tags": [
     "hide"
    ]
   },
   "outputs": [],
   "source": [
    "%matplotlib inline"
   ]
  },
  {
   "cell_type": "code",
   "execution_count": null,
   "metadata": {
    "tags": [
     "hide"
    ]
   },
   "outputs": [],
   "source": [
    "%config InlineBackend.figure_format = 'svg'\n",
    "import numpy as np\n",
    "from exact_solvers import acoustics, acoustics_demos\n",
    "from IPython.display import IFrame"
   ]
  },
  {
   "cell_type": "code",
   "execution_count": null,
   "metadata": {},
   "outputs": [],
   "source": [
    "acoustics_demos.decompose_q_interactive()"
   ]
  },
  {
   "cell_type": "markdown",
   "metadata": {},
   "source": [
    "In the second and third steps, we evolve the characteristic variables $w$ and then transform back to the original variables. We take as initial pressure a Gaussian, with zero initial velocity. We visualize this below, where the time evolution in the characteristic variables is shown in the first plot, and the time evolution of the velocity is shown in the second plot."
   ]
  },
  {
   "cell_type": "code",
   "execution_count": null,
   "metadata": {},
   "outputs": [],
   "source": [
    "acoustics_demos.char_solution_interactive()"
   ]
  },
  {
   "cell_type": "markdown",
   "metadata": {},
   "source": [
    "*In the live notebook, you can advance the above solutions in time and select which of the two characteristic variables to display.*\n",
    "Notice how in the characteristic variables $w$ (plotted on the left), each part of the solution simply advects (translates) since each of the characteristics variables simply obeys an uncoupled advection equation."
   ]
  },
  {
   "cell_type": "markdown",
   "metadata": {},
   "source": [
    "## The Riemann problem\n",
    "\n",
    "Now that we know how to solve the Cauchy problem, solution of the Riemann problem is merely a special case.  We have the special initial data  \n",
    "\\begin{align*}\n",
    "q(x,0) = \\begin{cases}\n",
    "q_\\ell & \\text{if   } x \\le 0, \\\\\n",
    "q_r & \\text{if   } x > 0.\n",
    "\\end{cases}\n",
    "\\end{align*}  \n",
    "We can proceed as before, by decomposing into characteristic components, advecting, and then transforming back.  But since we know the solution will be constant almost everywhere, it's even simpler to just decompose the jump $\\Delta q = q_r - q_\\ell$ in terms of the characteristic variables, and advect the two resulting jumps $\\Delta w_1$ and $\\Delta w_2$:  \n",
    "\\begin{align*}\n",
    "\\Delta q = \\Delta w_1 r_1 + \\Delta w_2 r_2,\n",
    "\\end{align*}  \n",
    "Since $R\\Delta w = \\Delta q$, we have  \n",
    "\\begin{align*}\n",
    "\\Delta w_1 = \\frac{-\\Delta p + Z\\Delta u}{2Z}, \\ \\ \\ \\ \\ \\\n",
    "\\Delta w_2 = \\frac{\\Delta p + Z\\Delta u}{2Z}.\n",
    "\\end{align*}  \n",
    "Thus the solution has the structure depicted below."
   ]
  },
  {
   "cell_type": "code",
   "execution_count": null,
   "metadata": {},
   "outputs": [],
   "source": [
    "Image('figures/acoustics_xt_plane.png', width=350)"
   ]
  },
  {
   "cell_type": "markdown",
   "metadata": {},
   "source": [
    "The three constant states are related by the jumps:   \n",
    "\\begin{align}\n",
    "q_m = q_\\ell + \\Delta w_1 r_1 = q_r - \\Delta w_2 r_2.\n",
    "\\label{eq:acussol}\n",
    "\\end{align}  \n",
    "The jumps in pressure and velocity for each propagating discontinuity are related in a particular way, since each jump is a multiple of one of the eigenvectors of $A$.  More generally, the eigenvectors of the coefficient matrix of a linear hyperbolic system reveal the relation between jumps in the conserved variables across a wave propagating with speed given by the corresponding eigenvalue.  For acoustics, the impedance is the physical parameter that determines this relation."
   ]
  },
  {
   "cell_type": "markdown",
   "metadata": {},
   "source": [
    "### A simple solution\n",
    "Here we provide some very simple initial data, and determine the Riemann solution, which consists of three states $q_\\ell$, $q_m$ and $q_r$, and the speeds of the two waves."
   ]
  },
  {
   "cell_type": "code",
   "execution_count": null,
   "metadata": {},
   "outputs": [],
   "source": [
    "# Initial data for Riemann problem\n",
    "rho = 0.5               # density\n",
    "bulk = 2.            # bulk modulus\n",
    "ql = np.array([3,2])   # Left state\n",
    "qr = np.array([3,-2])  # Right state\n",
    "# Calculated parameters\n",
    "c = np.sqrt(bulk/rho)  # calculate sound speed\n",
    "Z = np.sqrt(bulk*rho)  # calculate impedance\n",
    "print(\"With density rho = %g,  bulk modulus K = %g\" \\\n",
    "      % (rho,bulk))\n",
    "print(\"We compute: sound speed c = %g, impedance Z = %g \\n\" \\\n",
    "      % (c,Z))"
   ]
  },
  {
   "cell_type": "code",
   "execution_count": null,
   "metadata": {},
   "outputs": [],
   "source": [
    "# Call and print Riemann solution\n",
    "states, speeds, reval = \\\n",
    "    acoustics.exact_riemann_solution(ql ,qr, [rho, bulk])\n",
    "    \n",
    "print(\"The states ql, qm and qr are: \")\n",
    "print(states, \"\\n\")\n",
    "print(\"The left and right wave speeds are:\")\n",
    "print(speeds)"
   ]
  },
  {
   "cell_type": "markdown",
   "metadata": {},
   "source": [
    "One way to visualize the Riemann solution for a system of two equations is by looking at the  $p-u$ phase plane. In the figure below, we show the two initial conditions of the Riemann problem $q_\\ell$ and $q_r$ as points in the phase space; the lines passing through these points correspond to the eigenvectors, $r_1$ and $r_2$. \n",
    "\n",
    "The middle state $q_m$ is simply the intersection of the line in the direction $r_1$ passing through $q_\\ell$ and the line in the direction $r_2$ passing through $q_r$. The structure of this solution becomes evident from equation (\\ref{eq:acussol}).  The dashed lines correspond to a line in the direction $r_2$ passing through $q_\\ell$ and a line in the direction $r_1$ passing through $q_r$; these also intersect, but cannot represent a Riemann solution since they would involve a wave going to the right but connected to $q_\\ell$ and a wave going to the left but connected to $q_r$.\n",
    "\n",
    "In the live notebook, the cell below allows you to interactively adjust the initial conditions the material parameters as well as the plot range, so that you can explore how the structure of the solution in the phase plane is affected by these quantities."
   ]
  },
  {
   "cell_type": "code",
   "execution_count": null,
   "metadata": {},
   "outputs": [],
   "source": [
    "acoustics_demos.interactive_phase_plane(ql,qr,rho,bulk)"
   ]
  },
  {
   "cell_type": "markdown",
   "metadata": {},
   "source": [
    "Note that the eigenvectors are given in terms of the impedance $Z$, which depends on the density $\\rho$\n",
    "and the bulk modulus $K$. Therefore, when $\\rho$ and $K$ are modified the eigenvectors change and consequently the slope of the lines changes as well."
   ]
  },
  {
   "cell_type": "markdown",
   "metadata": {},
   "source": [
    "## Examples\n",
    "We will use the exact solver in [exact_solvers/acoustics.py](exact_solvers/acoustics.py) and the functions in [exact_solvers/acoustics_demos.py](exact_solvers/acoustics_demos.py) to plot interactive solutions for a few examples.\n",
    "\n",
    "### Shock tube\n",
    "\n",
    "If there is a jump in pressure and the velocity is zero in both initial states (the shock tube problem) then the resulting Riemann solution consists of pressure jumps of equal magnitude propagating in both directions, with equal and opposite jumps in velocity. This is the linearized version of what is known in fluid dynamics as a shock tube problem, since it emulates what would happen inside a shock tube, where the air is initially stationary and a separate chamber at the end of the tube is pressurized and then released."
   ]
  },
  {
   "cell_type": "code",
   "execution_count": null,
   "metadata": {},
   "outputs": [],
   "source": [
    "ql = np.array([5,0])\n",
    "qr = np.array([1,0])\n",
    "rho = 1.0\n",
    "bulk = 4.0\n",
    "acoustics_demos.riemann_plot_pplane(ql,qr,rho,bulk)"
   ]
  },
  {
   "cell_type": "markdown",
   "metadata": {},
   "source": [
    "We can also observe the structure of the solution in the phase plane. In the second plot, we show the structure of the solution in the phase plane."
   ]
  },
  {
   "cell_type": "markdown",
   "metadata": {},
   "source": [
    "### Reflection from a wall\n",
    "\n",
    "As another example, suppose the pressure is initially the same in the left and right states, while the velocities are non-zero with $u_r = -u_\\ell > 0$.  The flow is converging from both sides and because of the symmetry of the initial states, the result is a middle state $q_m$ in which the velocity is 0 (and the pressure is higher than on either side)."
   ]
  },
  {
   "cell_type": "code",
   "execution_count": null,
   "metadata": {},
   "outputs": [],
   "source": [
    "ql = np.array([2,1])  \n",
    "qr = np.array([2,-1])  \n",
    "rho = 1.0\n",
    "bulk = 1.5\n",
    "acoustics_demos.riemann_plot_pplane(ql,qr,rho,bulk)"
   ]
  },
  {
   "cell_type": "markdown",
   "metadata": {},
   "source": [
    "We again show the Riemann solution in space and in the phase plane, where the symmetry is also evident."
   ]
  },
  {
   "cell_type": "markdown",
   "metadata": {},
   "source": [
    "Disregarding the left half of the domain ($x<0$), one can view this as a solution to the problem of an acoustic wave impacting a solid wall. The result is a reflected wave that moves away from the wall; notice that the velocity vanishes at the wall, as it must.\n",
    "This type of Riemann solution is important when simulating waves in a domain with reflecting boundaries. The reflecting condition can be imposed by the use of fictitious *ghost cells* that lie just outside the domain and whose state is set by reflecting the interior solution with the symmetry just described (equal pressure, negated velocity).\n",
    "\n",
    "In reality, at a material boundary only part of a wave is reflected while the rest is transmitted.  This can be accounted for by including the spatial variation in $\\rho, K$ and solving a variable-coefficient Riemann problem."
   ]
  },
  {
   "cell_type": "markdown",
   "metadata": {},
   "source": [
    "### Interactive phase plane with solution at fixed time\n",
    "\n",
    "For a more general exploration of the solution to the acoustics equation, we now show an interactive solution of the acoustics equations. The initial states $q_\\ell$ and $q_r$ can be modified by dragging and dropping the points in the phase plane plot (in the notebook version, or on [this webpage](http://www.clawpack.org/riemann_book/phase_plane/acoustics_small.html)). "
   ]
  },
  {
   "cell_type": "code",
   "execution_count": null,
   "metadata": {
    "tags": [
     "hide"
    ]
   },
   "outputs": [],
   "source": [
    "IFrame(src='phase_plane/acoustics_small_notitle.html', \n",
    "       width=980, height=340)"
   ]
  },
  {
   "cell_type": "markdown",
   "metadata": {},
   "source": [
    "### Gaussian initial condition\n",
    "In this example, we use the first example described near the beginning of this chapter. The initial condition is a Gaussian pressure perturbation, while the initial velocity is zero. Reflecting boundary conditions are imposed at $x=-2$ and $x=2$, so the wave is fully reflected back, and we can see how it interacts with itself. This animation is produced using a numerical method from [PyClaw](http://www.clawpack.org/pyclaw/), and can be viewed in the interactive notebook or on [this webpage](http://www.clawpack.org/riemann_book/html/acoustics_bump_animation.html)."
   ]
  },
  {
   "cell_type": "code",
   "execution_count": null,
   "metadata": {
    "tags": [
     "hide"
    ]
   },
   "outputs": [],
   "source": [
    "anim = acoustics_demos.bump_animation(numframes = 50)\n",
    "HTML(anim)"
   ]
  }
 ],
 "metadata": {
  "kernelspec": {
   "display_name": "Python 3",
   "language": "python",
   "name": "python3"
  },
  "language_info": {
   "codemirror_mode": {
    "name": "ipython",
    "version": 3
   },
   "file_extension": ".py",
   "mimetype": "text/x-python",
   "name": "python",
   "nbconvert_exporter": "python",
   "pygments_lexer": "ipython3",
   "version": "3.8.2"
  },
  "toc": {
   "base_numbering": 1,
   "nav_menu": {},
   "number_sections": true,
   "sideBar": true,
   "skip_h1_title": false,
   "title_cell": "Table of Contents",
   "title_sidebar": "Contents",
   "toc_cell": false,
   "toc_position": {},
   "toc_section_display": "block",
   "toc_window_display": false
  }
 },
 "nbformat": 4,
 "nbformat_minor": 4
}
