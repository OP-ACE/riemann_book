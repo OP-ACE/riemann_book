{
 "cells": [
  {
   "cell_type": "markdown",
   "metadata": {},
   "source": [
    "# Riemann Problems and Jupyter Solutions\n",
    "\n",
    "### by David I. Ketcheson, Randall J. LeVeque, and Mauricio J. del Razo\n",
    "\n",
    "The Github repository containing these notebooks is https://github.com/clawpack/riemann_book.\n",
    "\n",
    "You can view html versions of some of these notebooks at http://www.clawpack.org/riemann_book/html/Index.html.\n",
    "\n",
    "**Parts I and II** of these notebooks will also be published by SIAM as a paperback book, and these are listed in [Index.ipynb](Index.ipynb).  The ones listed below are additional notebooks that cover more advanced topics and/or additional hyperbolic systems.\n",
    "\n"
   ]
  },
  {
   "cell_type": "markdown",
   "metadata": {},
   "source": [
    "\n",
    "\n",
    "\n",
    "## Part III: Riemann problems with spatially-varying flux\n",
    "  1. To appear -- Advection\n",
    "  2. [Acoustics_heterogeneous](Acoustics_heterogeneous.ipynb) -- Acoustics in heterogeneous media\n",
    "  3. [Traffic_variable_speed](Traffic_variable_speed.ipynb) -- Traffic with varying road conditions\n",
    "  4. [Nonlinear_elasticity](Nonlinear_elasticity.ipynb) -- Nonlinear elasticity in a heterogeneous medium\n",
    "  5. To appear -- Ideal gas shock tube with different ratio of specific heats\n",
    "  6. [Euler_Tammann](Euler_Tammann.ipynb) -- Euler equations with Tammann equation of state\n",
    "  \n",
    "## Part IV: Source terms\n",
    "  1. [Traffic_with_ramps](Traffic_with_ramps.ipynb) -- Traffic with an on-ramp source of traffic\n",
    " \n",
    "## Part V: Non-classical problems\n",
    "  2. [Pressureless_flow](Pressureless_flow.ipynb) -- Pressureless gas dynamics\n",
    " \n",
    "## Part VI: Multidimensional systems\n",
    "  1. [Acoustics](http://nbviewer.jupyter.org/github/maojrs/ipynotebooks/blob/FA16/acoustics_riemann.ipynb) *[To be improved and incorporated into this project]*\n",
    "  2. [Elasticity](http://nbviewer.jupyter.org/github/maojrs/ipynotebooks/blob/FA16/elasticity_riemann.ipynb) *[To be improved and incorporated into this project]*\n",
    "  3. [Kitchen_sink_problem](Kitchen_sink_problem.ipynb) -- The Kitchen Sink: shallow water in cylindrical coordinates"
   ]
  }
 ],
 "metadata": {
  "kernelspec": {
   "display_name": "Python 3",
   "language": "python",
   "name": "python3"
  },
  "language_info": {
   "codemirror_mode": {
    "name": "ipython",
    "version": 3
   },
   "file_extension": ".py",
   "mimetype": "text/x-python",
   "name": "python",
   "nbconvert_exporter": "python",
   "pygments_lexer": "ipython3",
   "version": "3.6.5"
  },
  "toc": {
   "base_numbering": 1,
   "nav_menu": {},
   "number_sections": true,
   "sideBar": true,
   "skip_h1_title": false,
   "title_cell": "Table of Contents",
   "title_sidebar": "Contents",
   "toc_cell": false,
   "toc_position": {},
   "toc_section_display": "block",
   "toc_window_display": false
  }
 },
 "nbformat": 4,
 "nbformat_minor": 4
}
